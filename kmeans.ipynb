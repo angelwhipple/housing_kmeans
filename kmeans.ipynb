{
 "nbformat": 4,
 "nbformat_minor": 0,
 "metadata": {
  "colab": {
   "provenance": []
  },
  "kernelspec": {
   "name": "python3",
   "display_name": "Python 3 (ipykernel)",
   "language": "python"
  },
  "language_info": {
   "name": "python"
  }
 },
 "cells": [
  {
   "cell_type": "markdown",
   "source": [
    "## Human-informed vs. algorithmic feature weighting\n",
    "This notebook examines the tradeoffs between human-informed weighting, and algorithmically learned weights in k-means clustering.\n",
    "\n",
    "The experiment highlights a fundamental tension between data-driven optimization and stakeholder-aligned insights, especially while designing algorithms for human-centered applications.\n",
    "\n",
    "We also explore a key difference between the data-driven and human definitions of *importance*:\n",
    "- Humans define importance relatively, and often unpredictably\n",
    "- FWSA mechanism defines a feature's importance by how efficiently it minimizes cluster dispersity\n",
    "- Do these definitions ever align?\n"
   ],
   "metadata": {
    "id": "EwJUaOtCZJxx"
   }
  },
  {
   "cell_type": "code",
   "metadata": {
    "id": "K1nMZKH25Gp9",
    "ExecuteTime": {
     "end_time": "2025-04-06T16:44:05.760834Z",
     "start_time": "2025-04-06T16:44:04.672056Z"
    }
   },
   "source": [
    "import torch\n",
    "import numpy as np\n",
    "import pandas as pd\n",
    "from feature_definitions import ranking_features, survey_features\n",
    "from util import plot_clusters"
   ],
   "outputs": [],
   "execution_count": 1
  },
  {
   "cell_type": "markdown",
   "source": [
    "## Data pre-processing\n",
    "Complete:\n",
    "- Transform non-numerical survey features\n",
    "- Normalize features to [0,1] with min-max scaling\n",
    "\n",
    "Next steps:\n",
    "- Transform categorical features to one-hot"
   ],
   "metadata": {
    "id": "aX0DfEXXIZXw"
   }
  },
  {
   "cell_type": "code",
   "source": [
    "from sklearn.preprocessing import MinMaxScaler\n",
    "from sklearn.impute import SimpleImputer\n",
    "\n",
    "full_ranking_data = pd.read_csv('Housing_factors.csv')\n",
    "full_survey_data = pd.read_csv('Housing_survey.csv')\n",
    "\n",
    "survey_data = full_survey_data[survey_features]\n",
    "# display(key_survey_data)\n",
    "\n",
    "scaler = MinMaxScaler()   # normalize features to [0,1]\n",
    "imputer = SimpleImputer(strategy='most_frequent')  # replace NaN values\n",
    "\n",
    "X = survey_data.to_numpy()\n",
    "X_filled = imputer.fit_transform(X)\n",
    "X_scaled = scaler.fit_transform(X_filled)\n",
    "\n",
    "survey_data = pd.DataFrame(X_scaled, columns=survey_data.columns)\n",
    "display(survey_data)\n",
    "print(X_scaled.shape)"
   ],
   "metadata": {
    "id": "HMY92hqkLiFB",
    "colab": {
     "base_uri": "https://localhost:8080/",
     "height": 506
    },
    "outputId": "5ca73fd5-a00f-476e-97ef-47a5457106cf",
    "ExecuteTime": {
     "end_time": "2025-04-06T16:44:06.988344Z",
     "start_time": "2025-04-06T16:44:06.440260Z"
    }
   },
   "outputs": [
    {
     "data": {
      "text/plain": [
       "    Latitude  Longitude\n",
       "0   0.308623   0.010410\n",
       "1   0.337995   0.000000\n",
       "2   0.395371   0.627902\n",
       "3   0.310649   0.007465\n",
       "4   0.310649   0.007465\n",
       "5   0.337995   0.000000\n",
       "6   0.307563   0.007546\n",
       "7   0.647185   1.000000\n",
       "8   1.000000   0.001687\n",
       "9   0.307563   0.007546\n",
       "10  0.000000   0.488927\n",
       "11  0.332508   0.488781\n",
       "12  0.315568   0.005386\n",
       "13  0.310649   0.007465"
      ],
      "text/html": [
       "<div>\n",
       "<style scoped>\n",
       "    .dataframe tbody tr th:only-of-type {\n",
       "        vertical-align: middle;\n",
       "    }\n",
       "\n",
       "    .dataframe tbody tr th {\n",
       "        vertical-align: top;\n",
       "    }\n",
       "\n",
       "    .dataframe thead th {\n",
       "        text-align: right;\n",
       "    }\n",
       "</style>\n",
       "<table border=\"1\" class=\"dataframe\">\n",
       "  <thead>\n",
       "    <tr style=\"text-align: right;\">\n",
       "      <th></th>\n",
       "      <th>Latitude</th>\n",
       "      <th>Longitude</th>\n",
       "    </tr>\n",
       "  </thead>\n",
       "  <tbody>\n",
       "    <tr>\n",
       "      <th>0</th>\n",
       "      <td>0.308623</td>\n",
       "      <td>0.010410</td>\n",
       "    </tr>\n",
       "    <tr>\n",
       "      <th>1</th>\n",
       "      <td>0.337995</td>\n",
       "      <td>0.000000</td>\n",
       "    </tr>\n",
       "    <tr>\n",
       "      <th>2</th>\n",
       "      <td>0.395371</td>\n",
       "      <td>0.627902</td>\n",
       "    </tr>\n",
       "    <tr>\n",
       "      <th>3</th>\n",
       "      <td>0.310649</td>\n",
       "      <td>0.007465</td>\n",
       "    </tr>\n",
       "    <tr>\n",
       "      <th>4</th>\n",
       "      <td>0.310649</td>\n",
       "      <td>0.007465</td>\n",
       "    </tr>\n",
       "    <tr>\n",
       "      <th>5</th>\n",
       "      <td>0.337995</td>\n",
       "      <td>0.000000</td>\n",
       "    </tr>\n",
       "    <tr>\n",
       "      <th>6</th>\n",
       "      <td>0.307563</td>\n",
       "      <td>0.007546</td>\n",
       "    </tr>\n",
       "    <tr>\n",
       "      <th>7</th>\n",
       "      <td>0.647185</td>\n",
       "      <td>1.000000</td>\n",
       "    </tr>\n",
       "    <tr>\n",
       "      <th>8</th>\n",
       "      <td>1.000000</td>\n",
       "      <td>0.001687</td>\n",
       "    </tr>\n",
       "    <tr>\n",
       "      <th>9</th>\n",
       "      <td>0.307563</td>\n",
       "      <td>0.007546</td>\n",
       "    </tr>\n",
       "    <tr>\n",
       "      <th>10</th>\n",
       "      <td>0.000000</td>\n",
       "      <td>0.488927</td>\n",
       "    </tr>\n",
       "    <tr>\n",
       "      <th>11</th>\n",
       "      <td>0.332508</td>\n",
       "      <td>0.488781</td>\n",
       "    </tr>\n",
       "    <tr>\n",
       "      <th>12</th>\n",
       "      <td>0.315568</td>\n",
       "      <td>0.005386</td>\n",
       "    </tr>\n",
       "    <tr>\n",
       "      <th>13</th>\n",
       "      <td>0.310649</td>\n",
       "      <td>0.007465</td>\n",
       "    </tr>\n",
       "  </tbody>\n",
       "</table>\n",
       "</div>"
      ]
     },
     "metadata": {},
     "output_type": "display_data"
    },
    {
     "name": "stdout",
     "output_type": "stream",
     "text": [
      "(14, 2)\n"
     ]
    }
   ],
   "execution_count": 2
  },
  {
   "cell_type": "markdown",
   "source": [
    "## Fuzzy K-means clustering\n",
    "As a baseline, we take the performance of k-means using the unweighted dispersion between samples and cluster centroids.\n",
    "- All features are weighted **uniformly**\n",
    "- We can use Euclidean distance or sum of squared distances to measure dispersion"
   ],
   "metadata": {
    "id": "Lta1OQMOVJKM"
   }
  },
  {
   "cell_type": "code",
   "source": [
    "from sklearn.cluster import KMeans\n",
    "\n",
    "kmeans = KMeans(n_clusters=5)\n",
    "kmeans.fit(X_scaled)\n",
    "labels = kmeans.labels_\n",
    "centers = kmeans.cluster_centers_\n",
    "\n",
    "print(f\"Inertia (sum of squared distances): {kmeans.inertia_}\")\n",
    "plot_clusters(X_scaled, survey_features, labels, centers, \"Latitude\", \"Longitude\")"
   ],
   "metadata": {
    "id": "Q6Pls5snZpF_",
    "colab": {
     "base_uri": "https://localhost:8080/",
     "height": 490
    },
    "outputId": "33b16aad-70f6-4b0c-f655-ace18e04ff56",
    "ExecuteTime": {
     "end_time": "2025-04-06T16:44:09.501795Z",
     "start_time": "2025-04-06T16:44:09.061054Z"
    }
   },
   "outputs": [
    {
     "name": "stdout",
     "output_type": "stream",
     "text": [
      "Inertia (sum of squared distances): 0.013005394577885574\n"
     ]
    },
    {
     "data": {
      "text/plain": [
       "<Figure size 640x480 with 2 Axes>"
      ],
      "image/png": "[encoded data removed]"
     },
     "metadata": {},
     "output_type": "display_data"
    }
   ],
   "execution_count": 3
  },
  {
   "cell_type": "markdown",
   "source": [
    "## Feature weighted K-means\n",
    "To cluster, we measure **distortion** between two data samples. There are cases in which applying a uniform, unweighted distortion across all features doesn't make sense:\n",
    "- We don't expect the statistical distributions of different features to be the same (Modha and Spangler, 2003); therefore, distortions on individual components are allowed to be different.\n",
    "- All features aren't equally important.\n",
    "\n",
    "To encode this, we can redefine distortion to be a weighted sum of the distortions between individual component feature vectors. We extend the fuzzy k-means optimization algorithm to employ this weighted distortion measure."
   ],
   "metadata": {
    "id": "QPIv0ifw50fE"
   }
  },
  {
   "cell_type": "markdown",
   "source": [
    "#### User-informed feature weights\n",
    "We derive our weights by taking the average user-informed importance ranking for each feature"
   ],
   "metadata": {
    "id": "B-FlM-SCj82w"
   }
  },
  {
   "cell_type": "code",
   "source": [
    "rank_data = full_ranking_data[ranking_features]\n",
    "\n",
    "W = np.nanmean(rank_data.to_numpy(), axis=0)\n",
    "W = 5 - W + 1   # max-based inversion: original ranks are 1 (most) to 5 (least) significant\n",
    "\n",
    "rank_data = pd.DataFrame(W.reshape(1, -1), columns=survey_features)\n",
    "display(rank_data)\n",
    "print(W.shape)"
   ],
   "metadata": {
    "id": "jr4t0miWVO2_",
    "colab": {
     "base_uri": "https://localhost:8080/",
     "height": 107
    },
    "outputId": "c86826af-b84d-4562-99c1-6bd825ccf391",
    "collapsed": true,
    "ExecuteTime": {
     "end_time": "2025-04-06T16:44:12.503912Z",
     "start_time": "2025-04-06T16:44:12.493137Z"
    }
   },
   "outputs": [
    {
     "data": {
      "text/plain": [
       "   Latitude  Longitude\n",
       "0  3.163043   3.163043"
      ],
      "text/html": [
       "<div>\n",
       "<style scoped>\n",
       "    .dataframe tbody tr th:only-of-type {\n",
       "        vertical-align: middle;\n",
       "    }\n",
       "\n",
       "    .dataframe tbody tr th {\n",
       "        vertical-align: top;\n",
       "    }\n",
       "\n",
       "    .dataframe thead th {\n",
       "        text-align: right;\n",
       "    }\n",
       "</style>\n",
       "<table border=\"1\" class=\"dataframe\">\n",
       "  <thead>\n",
       "    <tr style=\"text-align: right;\">\n",
       "      <th></th>\n",
       "      <th>Latitude</th>\n",
       "      <th>Longitude</th>\n",
       "    </tr>\n",
       "  </thead>\n",
       "  <tbody>\n",
       "    <tr>\n",
       "      <th>0</th>\n",
       "      <td>3.163043</td>\n",
       "      <td>3.163043</td>\n",
       "    </tr>\n",
       "  </tbody>\n",
       "</table>\n",
       "</div>"
      ]
     },
     "metadata": {},
     "output_type": "display_data"
    },
    {
     "name": "stdout",
     "output_type": "stream",
     "text": [
      "(2,)\n"
     ]
    }
   ],
   "execution_count": 4
  },
  {
   "cell_type": "code",
   "source": [
    "X_weighted = X_scaled * W\n",
    "\n",
    "kmeans.fit(X_weighted)\n",
    "labels = kmeans.labels_\n",
    "centers = kmeans.cluster_centers_\n",
    "\n",
    "print(f\"Inertia (sum of squared distances): {kmeans.inertia_}\")\n",
    "plot_clusters(X_weighted, survey_features, labels, centers, \"Latitude\", \"Longitude\")"
   ],
   "metadata": {
    "colab": {
     "base_uri": "https://localhost:8080/",
     "height": 490
    },
    "id": "UMnRihi7gyRO",
    "outputId": "ddcf921c-de2d-4cd7-efe6-b7af4153b78d",
    "ExecuteTime": {
     "end_time": "2025-04-06T16:44:22.128456Z",
     "start_time": "2025-04-06T16:44:22.027052Z"
    }
   },
   "outputs": [
    {
     "name": "stdout",
     "output_type": "stream",
     "text": [
      "Inertia (sum of squared distances): 0.13011694450022782\n"
     ]
    },
    {
     "data": {
      "text/plain": [
       "<Figure size 640x480 with 2 Axes>"
      ],
      "image/png": "[encoded data removed]"
     },
     "metadata": {},
     "output_type": "display_data"
    }
   ],
   "execution_count": 5
  },
  {
   "cell_type": "markdown",
   "source": [
    "#### Algorithmically learned feature weights\n",
    "An optimal feature weighting minimizes the average within-cluster dispersion, while simultaneously *maximizing* the average between-cluster dispersion across all feature spaces.\n",
    "- In English, we want samples of the same cluster closer to cluster centers, and cluster centers far apart\n",
    "- We weigh features based on how clearly they seperate clusters (e.g., no clear separation gets lower weight)\n",
    "\n",
    "#### Feature weight self-adjustment (FWSA) mechanism\n",
    "Genereally, the K-means algorithm treats all features fairly (weights features equally) when evaluating dissimilarity. FWSA differs in the following ways:\n",
    "- At each iteration of K-means, all feature weights are adaptively updated by adding their respective adjustment margins (Tsai and Chiu, 2008).\n",
    "- The **adjustment margin** of a feature weight is derived from the importance of the feature to the overall clustering quality.\n",
    "- A feature's weight adjustment is inversely proportional to its dispersion (how scattered it is across clusters)\n",
    "\n",
    "#### Feature-reduction fuzzy c-means clustering (FRFCM)\n",
    "- Similar to FWSA, in FRFCM we drive down the weights of unimportant features\n",
    "- Low-weight features are ultimately discarded during clustering"
   ],
   "metadata": {
    "id": "ZAIsy5_NNrTA"
   }
  },
  {
   "cell_type": "code",
   "source": [],
   "metadata": {
    "id": "jxZqrt5TQGFL"
   },
   "execution_count": null,
   "outputs": []
  },
  {
   "cell_type": "markdown",
   "source": [
    "## Evaluation\n",
    "We evaluate the two approaches based on several quantitative and qualitative metrics.\n",
    "\n",
    "**Quantitative**\n",
    "1.   Within-cluster sum of squared distances\n",
    "2. Silhouette score: measures within-cluster compactness and between-cluster separation\n",
    "3.   Convergence time: iterations until centroids stop moving significantly or cluster assignments stop changing\n",
    "  - If we use our human-informed cluster centroids as a basis for the data-driven k-means optimization, can we improve convergence time?\n",
    "  - What happens when we mix interpretability and data-driven refinement?\n",
    "\n",
    "**Qualitative**\n",
    "1. Interpretability: do the clusters reflect meaningful groupings?\n",
    "  - Examine the mean feature values and standard deviations for each cluster\n",
    "  - Do subjects of the same cluster value a particular feature more than others? (less variance from the mean)\n",
    "2. Human evaluation: do the results line up with what we expect?\n",
    "  - For each weighting approach, we do the following:\n",
    "    - Fit k-means (estimate centroids) to the training data\n",
    "    - Assign the test data to clusters\n",
    "    - Run a simulation: assign users to a test cluster and have them evaluate the accuracy of their own recommendations\n"
   ],
   "metadata": {
    "id": "TQbixjJZmB21"
   }
  }
 ]
}
